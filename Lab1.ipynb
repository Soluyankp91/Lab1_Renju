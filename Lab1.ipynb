{
  "nbformat": 4,
  "nbformat_minor": 0,
  "metadata": {
    "colab": {
      "provenance": [],
      "authorship_tag": "ABX9TyMh0eXJtsnqTCIWzLIXxEwR",
      "include_colab_link": true
    },
    "kernelspec": {
      "name": "python3",
      "display_name": "Python 3"
    },
    "language_info": {
      "name": "python"
    }
  },
  "cells": [
    {
      "cell_type": "markdown",
      "metadata": {
        "id": "view-in-github",
        "colab_type": "text"
      },
      "source": [
        "<a href=\"https://colab.research.google.com/github/Soluyankp91/Lab1_Renju/blob/main/Lab1.ipynb\" target=\"_parent\"><img src=\"https://colab.research.google.com/assets/colab-badge.svg\" alt=\"Open In Colab\"/></a>"
      ]
    },
    {
      "cell_type": "code",
      "execution_count": null,
      "metadata": {
        "colab": {
          "base_uri": "https://localhost:8080/"
        },
        "id": "44hfPZIy0Coc",
        "outputId": "aad509d3-15ca-48fe-e8dd-2c5bbfcae9ab"
      },
      "outputs": [
        {
          "output_type": "stream",
          "name": "stdout",
          "text": [
            "1\n",
            "8 12\n"
          ]
        }
      ],
      "source": [
        "ROW_LENGTH = 19\n",
        "COL_LENGTH = 19\n",
        "WINNING_LENGTH = 5\n",
        "BLACK_STONE_NUMBER = 1\n",
        "WHITE_STONE_NUMBER = 2\n",
        "\n",
        "def check_horizontal(board, row, col, color):\n",
        "    count = 1\n",
        "    for i in range(1, WINNING_LENGTH):\n",
        "        if col + i < COL_LENGTH and board[row][col + i] == color:\n",
        "            count += 1\n",
        "        else:\n",
        "            break\n",
        "    if count == WINNING_LENGTH:\n",
        "        if (col + WINNING_LENGTH < COL_LENGTH and board[row][col + WINNING_LENGTH] == color) or (col > 0 and board[row][col - 1] == color):\n",
        "            return 0, None  # More than five consecutive stones\n",
        "    return count, (row, col)\n",
        "\n",
        "def check_vertical(board, row, col, color):\n",
        "    count = 1\n",
        "    for i in range(1, WINNING_LENGTH):\n",
        "        if row + i < ROW_LENGTH and board[row + i][col] == color:\n",
        "            count += 1\n",
        "        else:\n",
        "            break\n",
        "    if count == WINNING_LENGTH:\n",
        "        if (row + WINNING_LENGTH < ROW_LENGTH and board[row + WINNING_LENGTH][col] == color) or (row > 0 and board[row - 1][col] == color):\n",
        "            return 0, None  # More than five consecutive stones\n",
        "    return count, (row, col)\n",
        "\n",
        "def check_diagonal_top_left_bottom_right(board, row, col, color):\n",
        "    count = 1\n",
        "    for i in range(1, WINNING_LENGTH):\n",
        "        if row + i < ROW_LENGTH and col + i < COL_LENGTH and board[row + i][col + i] == color:\n",
        "            count += 1\n",
        "        else:\n",
        "            break\n",
        "    if count == WINNING_LENGTH:\n",
        "        if (row + WINNING_LENGTH < ROW_LENGTH and col + WINNING_LENGTH < COL_LENGTH and board[row + WINNING_LENGTH][col + WINNING_LENGTH] == color) or (row > 0 and col > 0 and board[row - 1][col - 1] == color):\n",
        "            return 0, None  # More than five consecutive stones\n",
        "    return count, (row, col)\n",
        "\n",
        "def check_diagonal_bottom_left_top_right(board, row, col, color):\n",
        "    count = 1\n",
        "    for i in range(1, WINNING_LENGTH):\n",
        "        if row + i < ROW_LENGTH and col - i >= 0 and board[row + i][col - i] == color:\n",
        "            count += 1\n",
        "        else:\n",
        "            break\n",
        "    if count == WINNING_LENGTH:\n",
        "        if (row + WINNING_LENGTH < ROW_LENGTH and col - WINNING_LENGTH >= 0 and board[row + WINNING_LENGTH][col - WINNING_LENGTH] == color) or (row > 0 and col < COL_LENGTH - 1 and board[row - 1][col + 1] == color):\n",
        "            return 0, None  # More than five consecutive stones\n",
        "    return count, (row + (count - 1), col - (count - 1))\n",
        "\n",
        "def check_winning_lane(board, row, col):\n",
        "    color = board[row][col]\n",
        "\n",
        "    for check in [check_horizontal, check_vertical, check_diagonal_top_left_bottom_right, check_diagonal_bottom_left_top_right]:\n",
        "        count, start_pos = check(board, row, col, color)\n",
        "        if count == WINNING_LENGTH:\n",
        "            return True, start_pos\n",
        "\n",
        "    return False, None\n",
        "\n",
        "def check_winner(board):\n",
        "    for row in range(ROW_LENGTH):\n",
        "        for col in range(COL_LENGTH):\n",
        "            if board[row][col] != 0:\n",
        "                win, start_pos = check_winning_lane(board, row, col)\n",
        "                if win:\n",
        "                    return (BLACK_STONE_NUMBER if board[row][col] == BLACK_STONE_NUMBER else WHITE_STONE_NUMBER), start_pos\n",
        "    return 0, None\n",
        "\n",
        "def main():\n",
        "    try:\n",
        "        with open('data.txt', 'r') as file:\n",
        "            count = int(file.readline())\n",
        "            if count < 1 or count > 11:\n",
        "                print(\"Number of test cases is out of valid range (1-11)\")\n",
        "                return\n",
        "            for num_test_cases in range(count):\n",
        "                array = []\n",
        "                for line in range(19):\n",
        "                    row = [int(num) for num in file.readline().strip()]\n",
        "                    array.append(row)\n",
        "                winner, win_pos = check_winner(array)\n",
        "                print(winner)\n",
        "                if winner != 0:\n",
        "                    print(win_pos[0] + 1, win_pos[1] + 1)\n",
        "    except ValueError:\n",
        "        print('Wrong input file')\n",
        "        return\n",
        "    except IndexError:\n",
        "        print('Wrong game`s field size ')\n",
        "        return\n",
        "\n",
        "if __name__ == \"__main__\":\n",
        "    main()\n"
      ]
    }
  ]
}